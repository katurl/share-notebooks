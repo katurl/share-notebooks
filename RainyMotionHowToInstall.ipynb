{
 "cells": [
  {
   "cell_type": "markdown",
   "metadata": {},
   "source": [
    "I recommend at first install Anaconda package if it doesn’t install yet. Next step in original Rainymotion install guide is runing environment from Rainymotion directiory "
   ]
  },
  {
   "cell_type": "raw",
   "metadata": {},
   "source": [
    "conda env create -f environment.yml"
   ]
  },
  {
   "cell_type": "markdown",
   "metadata": {},
   "source": [
    "But this command doesn’t work for me, so I installed environment packages manually"
   ]
  },
  {
   "cell_type": "markdown",
   "metadata": {},
   "source": [
    "1. Create Anaconda new environment"
   ]
  },
  {
   "cell_type": "raw",
   "metadata": {},
   "source": [
    "conda create --name rainymotion"
   ]
  },
  {
   "cell_type": "markdown",
   "metadata": {},
   "source": [
    "2. Activate new environment"
   ]
  },
  {
   "cell_type": "raw",
   "metadata": {},
   "source": [
    "conda activate rainymotion"
   ]
  },
  {
   "cell_type": "markdown",
   "metadata": {},
   "source": [
    "3. Install libraries required for Rainymotion package work:"
   ]
  },
  {
   "cell_type": "raw",
   "metadata": {},
   "source": [
    "conda install -c conda-forge python=3.6\n",
    "pip install opencv-python==3.4.11.41\n",
    "pip install opencv-contrib-python==3.4.10.35\n",
    "conda install -c conda-forge wradlib\n",
    "conda install -c anaconda scikit-image\n",
    "conda install -c anaconda scikit-learn"
   ]
  },
  {
   "cell_type": "markdown",
   "metadata": {},
   "source": [
    "<div>It is a critical step of instillation, most of installation errors appeared on this step</div>\n",
    "<div>If everything goes wrong you can remove the environment, and start the installation process again</div>\n",
    "<div></div>"
   ]
  },
  {
   "cell_type": "markdown",
   "metadata": {},
   "source": [
    "4. Unpack Rainymotion package in home/Downloads folder and cd to it. Then run:"
   ]
  },
  {
   "cell_type": "raw",
   "metadata": {},
   "source": [
    "python setup.py install"
   ]
  },
  {
   "cell_type": "markdown",
   "metadata": {},
   "source": [
    "5. If everything is OK, the package will be installed and you can check it by runing in Python interpreter:"
   ]
  },
  {
   "cell_type": "raw",
   "metadata": {},
   "source": [
    "import rainymotion"
   ]
  },
  {
   "cell_type": "markdown",
   "metadata": {},
   "source": [
    "6. Opencv LIbrary is needed to run Dense Rainymotion model, I recommend to run in Python interpreter at first"
   ]
  },
  {
   "cell_type": "raw",
   "metadata": {},
   "source": [
    " import cv2\n",
    "\n",
    "of_instance = cv2.optflow.createOptFlow_Farneback()\n",
    "of_instance = cv2.optflow.createOptFlow_DIS()\n",
    "of_instance = cv2.optflow.createOptFlow_DeepFlow()\n",
    "of_instance = cv2.optflow.createOptFlow_PCAFlow()\n",
    "of_instance = cv2.optflow.createOptFlow_SimpleFlow()"
   ]
  },
  {
   "cell_type": "markdown",
   "metadata": {},
   "source": [
    "If everything is OK, the Rainymotion package is installed correctly!"
   ]
  }
 ],
 "metadata": {
  "kernelspec": {
   "display_name": "Python 3",
   "language": "python",
   "name": "python3"
  },
  "language_info": {
   "codemirror_mode": {
    "name": "ipython",
    "version": 3
   },
   "file_extension": ".py",
   "mimetype": "text/x-python",
   "name": "python",
   "nbconvert_exporter": "python",
   "pygments_lexer": "ipython3",
   "version": "3.8.5"
  }
 },
 "nbformat": 4,
 "nbformat_minor": 5
}
